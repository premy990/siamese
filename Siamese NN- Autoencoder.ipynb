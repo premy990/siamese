{
 "cells": [
  {
   "cell_type": "code",
   "execution_count": 3,
   "metadata": {},
   "outputs": [
    {
     "name": "stderr",
     "output_type": "stream",
     "text": [
      "Using TensorFlow backend.\n"
     ]
    }
   ],
   "source": [
    "import numpy as np\n",
    "from keras.layers import Input, Dense\n",
    "from keras.models import Model"
   ]
  },
  {
   "cell_type": "code",
   "execution_count": 4,
   "metadata": {},
   "outputs": [],
   "source": [
    "char_1=Input(shape=(1,1),dtype='float32')\n",
    "char_2=Input(shape=(1,1),dtype='float32')"
   ]
  },
  {
   "cell_type": "code",
   "execution_count": 5,
   "metadata": {},
   "outputs": [],
   "source": [
    "from keras.layers import LSTM\n",
    "\n",
    "encoder=LSTM(1,activation='tanh', recurrent_activation='hard_sigmoid',return_sequences=False)"
   ]
  },
  {
   "cell_type": "code",
   "execution_count": 6,
   "metadata": {
    "scrolled": false
   },
   "outputs": [
    {
     "name": "stderr",
     "output_type": "stream",
     "text": [
      "/usr/local/lib/python2.7/dist-packages/ipykernel_launcher.py:5: UserWarning: The `merge` function is deprecated and will be removed after 08/2017. Use instead layers from `keras.layers.merge`, e.g. `add`, `concatenate`, etc.\n",
      "  \"\"\"\n",
      "/usr/local/lib/python2.7/dist-packages/keras/legacy/layers.py:458: UserWarning: The `Merge` layer is deprecated and will be removed after 08/2017. Use instead layers from `keras.layers.merge`, e.g. `add`, `concatenate`, etc.\n",
      "  name=name)\n"
     ]
    }
   ],
   "source": [
    "repr_1=encoder(char_1)\n",
    "repr_2=encoder(char_2)\n",
    "\n",
    "from keras.layers import merge\n",
    "siamese_out=merge([repr_1,repr_2],mode='cos')"
   ]
  },
  {
   "cell_type": "code",
   "execution_count": 9,
   "metadata": {},
   "outputs": [
    {
     "name": "stderr",
     "output_type": "stream",
     "text": [
      "/usr/local/lib/python2.7/dist-packages/ipykernel_launcher.py:1: UserWarning: Update your `Model` call to the Keras 2 API: `Model(outputs=Tensor(\"me..., inputs=[<tf.Tenso...)`\n",
      "  \"\"\"Entry point for launching an IPython kernel.\n"
     ]
    }
   ],
   "source": [
    "siamese_model=Model(input=[char_1,char_2],output=siamese_out)\n",
    "siamese_model.compile(optimizer='sgd',loss='mean_squared_error')"
   ]
  },
  {
   "cell_type": "code",
   "execution_count": null,
   "metadata": {},
   "outputs": [],
   "source": [
    "siamese_model.fit_generator(generator,samples_per_epoch,nb_epoch)"
   ]
  },
  {
   "cell_type": "code",
   "execution_count": 29,
   "metadata": {},
   "outputs": [],
   "source": [
    "X_train=[1,2,3,4]\n",
    "y_train=[3,2,3,4]\n",
    "X_test=[1,2,3]\n",
    "y_test=[5,4,3]\n",
    "X=np.array(X_train,dtype=np.float32)\n",
    "y=np.array(y_train,dtype=np.float32)\n",
    "X_test=np.array(X_test,dtype=np.float32)\n",
    "y_test=np.array(y_test,dtype=np.float32)"
   ]
  },
  {
   "cell_type": "code",
   "execution_count": 39,
   "metadata": {},
   "outputs": [],
   "source": [
    "X=X.reshape(4,1,1)\n",
    "y=y.reshape(4,1,1)\n",
    "X_test= X_test.reshape(3,1,1)\n",
    "y_test= y_test.reshape(3,1,1)"
   ]
  },
  {
   "cell_type": "code",
   "execution_count": null,
   "metadata": {},
   "outputs": [],
   "source": [
    "fit(self, x, y, batch_size=32, epochs=10, verbose=1, callbacks=None, validation_split=0.0, validation_data=None, shuffle=True, class_weight=None, sample_weight=None, initial_epoch=0)"
   ]
  },
  {
   "cell_type": "code",
   "execution_count": null,
   "metadata": {},
   "outputs": [],
   "source": []
  },
  {
   "cell_type": "code",
   "execution_count": null,
   "metadata": {},
   "outputs": [],
   "source": [
    "#Auto-encoder"
   ]
  },
  {
   "cell_type": "code",
   "execution_count": 59,
   "metadata": {},
   "outputs": [],
   "source": [
    "from keras.layers import Input, Dense\n",
    "from keras.models import Model\n",
    "\n",
    "# this is the size of our encoded representations\n",
    "encoding_dim = 32  # 32 floats -> compression of factor 24.5, assuming the input is 784 floats\n",
    "\n",
    "# this is our input placeholder\n",
    "input_img = Input(shape=(784,))\n",
    "# \"encoded\" is the encoded representation of the input\n",
    "encoded = Dense(encoding_dim, activation='relu')(input_img)\n",
    "# \"decoded\" is the lossy reconstruction of the input\n",
    "decoded = Dense(784, activation='sigmoid')(encoded)\n",
    "\n",
    "# this model maps an input to its reconstruction\n",
    "autoencoder = Model(input_img, decoded)"
   ]
  },
  {
   "cell_type": "code",
   "execution_count": 60,
   "metadata": {},
   "outputs": [],
   "source": [
    "# this model maps an input to its encoded representation\n",
    "encoder = Model(input_img, encoded)"
   ]
  },
  {
   "cell_type": "code",
   "execution_count": 61,
   "metadata": {},
   "outputs": [],
   "source": [
    "# create a placeholder for an encoded (32-dimensional) input\n",
    "encoded_input = Input(shape=(encoding_dim,))\n",
    "# retrieve the last layer of the autoencoder model\n",
    "decoder_layer = autoencoder.layers[-1]\n",
    "# create the decoder model\n",
    "decoder = Model(encoded_input, decoder_layer(encoded_input))"
   ]
  },
  {
   "cell_type": "code",
   "execution_count": 62,
   "metadata": {},
   "outputs": [],
   "source": [
    "autoencoder.compile(optimizer='adadelta', loss='binary_crossentropy')"
   ]
  },
  {
   "cell_type": "code",
   "execution_count": 63,
   "metadata": {},
   "outputs": [
    {
     "name": "stdout",
     "output_type": "stream",
     "text": [
      "(60000, 784)\n",
      "(10000, 784)\n"
     ]
    }
   ],
   "source": [
    "x_train = x_train.astype('float32') / 255.\n",
    "x_test = x_test.astype('float32') / 255.\n",
    "x_train = x_train.reshape((len(x_train), np.prod(x_train.shape[1:])))\n",
    "x_test = x_test.reshape((len(x_test), np.prod(x_test.shape[1:])))\n",
    "print x_train.shape\n",
    "print x_test.shape"
   ]
  },
  {
   "cell_type": "code",
   "execution_count": 64,
   "metadata": {
    "scrolled": true
   },
   "outputs": [
    {
     "name": "stdout",
     "output_type": "stream",
     "text": [
      "Train on 60000 samples, validate on 10000 samples\n",
      "Epoch 1/50\n",
      "60000/60000 [==============================] - 8s - loss: 0.6623 - val_loss: 0.6026\n",
      "Epoch 2/50\n",
      "60000/60000 [==============================] - 7s - loss: 0.3271 - val_loss: 0.0850\n",
      "Epoch 3/50\n",
      "60000/60000 [==============================] - 7s - loss: 0.0417 - val_loss: 0.0218\n",
      "Epoch 4/50\n",
      "60000/60000 [==============================] - 7s - loss: 0.0159 - val_loss: 0.0121\n",
      "Epoch 5/50\n",
      "60000/60000 [==============================] - 7s - loss: 0.0101 - val_loss: 0.0087\n",
      "Epoch 6/50\n",
      "60000/60000 [==============================] - 7s - loss: 0.0078 - val_loss: 0.0071\n",
      "Epoch 7/50\n",
      "60000/60000 [==============================] - 7s - loss: 0.0066 - val_loss: 0.0062\n",
      "Epoch 8/50\n",
      "60000/60000 [==============================] - 7s - loss: 0.0059 - val_loss: 0.0056\n",
      "Epoch 9/50\n",
      "60000/60000 [==============================] - 7s - loss: 0.0054 - val_loss: 0.0053\n",
      "Epoch 10/50\n",
      "60000/60000 [==============================] - 7s - loss: 0.0051 - val_loss: 0.0050\n",
      "Epoch 11/50\n",
      "60000/60000 [==============================] - 7s - loss: 0.0049 - val_loss: 0.0049\n",
      "Epoch 12/50\n",
      "60000/60000 [==============================] - 7s - loss: 0.0048 - val_loss: 0.0048\n",
      "Epoch 13/50\n",
      "60000/60000 [==============================] - 7s - loss: 0.0047 - val_loss: 0.0047\n",
      "Epoch 14/50\n",
      "60000/60000 [==============================] - 7s - loss: 0.0046 - val_loss: 0.0046\n",
      "Epoch 15/50\n",
      "60000/60000 [==============================] - 7s - loss: 0.0045 - val_loss: 0.0045\n",
      "Epoch 16/50\n",
      "60000/60000 [==============================] - 7s - loss: 0.0045 - val_loss: 0.0045\n",
      "Epoch 17/50\n",
      "60000/60000 [==============================] - 7s - loss: 0.0044 - val_loss: 0.0044\n",
      "Epoch 18/50\n",
      "60000/60000 [==============================] - 7s - loss: 0.0044 - val_loss: 0.0044\n",
      "Epoch 19/50\n",
      "60000/60000 [==============================] - 8s - loss: 0.0043 - val_loss: 0.0044\n",
      "Epoch 20/50\n",
      "60000/60000 [==============================] - 7s - loss: 0.0043 - val_loss: 0.0044\n",
      "Epoch 21/50\n",
      "60000/60000 [==============================] - 7s - loss: 0.0043 - val_loss: 0.0043\n",
      "Epoch 22/50\n",
      "60000/60000 [==============================] - 7s - loss: 0.0043 - val_loss: 0.0043\n",
      "Epoch 23/50\n",
      "60000/60000 [==============================] - 8s - loss: 0.0043 - val_loss: 0.0043\n",
      "Epoch 24/50\n",
      "60000/60000 [==============================] - 8s - loss: 0.0042 - val_loss: 0.0043\n",
      "Epoch 25/50\n",
      "60000/60000 [==============================] - 7s - loss: 0.0042 - val_loss: 0.0043\n",
      "Epoch 26/50\n",
      "60000/60000 [==============================] - 7s - loss: 0.0042 - val_loss: 0.0043\n",
      "Epoch 27/50\n",
      "60000/60000 [==============================] - 7s - loss: 0.0042 - val_loss: 0.0042\n",
      "Epoch 28/50\n",
      "60000/60000 [==============================] - 6s - loss: 0.0042 - val_loss: 0.0042\n",
      "Epoch 29/50\n",
      "60000/60000 [==============================] - 7s - loss: 0.0042 - val_loss: 0.0042\n",
      "Epoch 30/50\n",
      "60000/60000 [==============================] - 7s - loss: 0.0042 - val_loss: 0.0042\n",
      "Epoch 31/50\n",
      "60000/60000 [==============================] - 7s - loss: 0.0042 - val_loss: 0.0042\n",
      "Epoch 32/50\n",
      "60000/60000 [==============================] - 7s - loss: 0.0042 - val_loss: 0.0042\n",
      "Epoch 33/50\n",
      "60000/60000 [==============================] - 7s - loss: 0.0042 - val_loss: 0.0042\n",
      "Epoch 34/50\n",
      "60000/60000 [==============================] - 8s - loss: 0.0041 - val_loss: 0.0042\n",
      "Epoch 35/50\n",
      "60000/60000 [==============================] - 8s - loss: 0.0041 - val_loss: 0.0042\n",
      "Epoch 36/50\n",
      "60000/60000 [==============================] - 7s - loss: 0.0041 - val_loss: 0.0042\n",
      "Epoch 37/50\n",
      "60000/60000 [==============================] - 7s - loss: 0.0041 - val_loss: 0.0042\n",
      "Epoch 38/50\n",
      "60000/60000 [==============================] - 7s - loss: 0.0041 - val_loss: 0.0042\n",
      "Epoch 39/50\n",
      "60000/60000 [==============================] - 8s - loss: 0.0041 - val_loss: 0.0042\n",
      "Epoch 40/50\n",
      "60000/60000 [==============================] - 7s - loss: 0.0041 - val_loss: 0.0042\n",
      "Epoch 41/50\n",
      "60000/60000 [==============================] - 7s - loss: 0.0041 - val_loss: 0.0042\n",
      "Epoch 42/50\n",
      "60000/60000 [==============================] - 7s - loss: 0.0041 - val_loss: 0.0042\n",
      "Epoch 43/50\n",
      "60000/60000 [==============================] - 8s - loss: 0.0041 - val_loss: 0.0041\n",
      "Epoch 44/50\n",
      "60000/60000 [==============================] - 8s - loss: 0.0041 - val_loss: 0.0041\n",
      "Epoch 45/50\n",
      "60000/60000 [==============================] - 8s - loss: 0.0041 - val_loss: 0.0041\n",
      "Epoch 46/50\n",
      "60000/60000 [==============================] - 7s - loss: 0.0041 - val_loss: 0.0041\n",
      "Epoch 47/50\n",
      "60000/60000 [==============================] - 7s - loss: 0.0041 - val_loss: 0.0041\n",
      "Epoch 48/50\n",
      "60000/60000 [==============================] - 7s - loss: 0.0041 - val_loss: 0.0041\n",
      "Epoch 49/50\n",
      "60000/60000 [==============================] - 7s - loss: 0.0041 - val_loss: 0.0041\n",
      "Epoch 50/50\n",
      "60000/60000 [==============================] - 7s - loss: 0.0041 - val_loss: 0.0041\n"
     ]
    },
    {
     "data": {
      "text/plain": [
       "<keras.callbacks.History at 0x7ffb4dd85050>"
      ]
     },
     "execution_count": 64,
     "metadata": {},
     "output_type": "execute_result"
    }
   ],
   "source": [
    "autoencoder.fit(x_train, x_train,\n",
    "                epochs=50,\n",
    "                batch_size=256,\n",
    "                shuffle=True,\n",
    "                validation_data=(x_test, x_test))"
   ]
  },
  {
   "cell_type": "code",
   "execution_count": 51,
   "metadata": {},
   "outputs": [
    {
     "name": "stdout",
     "output_type": "stream",
     "text": [
      "Downloading data from https://s3.amazonaws.com/img-datasets/mnist.npz\n",
      "11493376/11490434 [==============================] - 891s   \n"
     ]
    }
   ],
   "source": [
    "from keras.datasets import mnist\n",
    "import numpy as np\n",
    "(x_train, _), (x_test, _) = mnist.load_data()"
   ]
  },
  {
   "cell_type": "code",
   "execution_count": 65,
   "metadata": {},
   "outputs": [],
   "source": [
    "# encode and decode some digits\n",
    "# note that we take them from the *test* set\n",
    "encoded_imgs = encoder.predict(x_test)\n",
    "decoded_imgs = decoder.predict(encoded_imgs)"
   ]
  },
  {
   "cell_type": "code",
   "execution_count": null,
   "metadata": {},
   "outputs": [],
   "source": [
    "# can change shape of y in output in lstm\n",
    "#try siamese"
   ]
  }
 ],
 "metadata": {
  "kernelspec": {
   "display_name": "Python 2",
   "language": "python",
   "name": "python2"
  },
  "language_info": {
   "codemirror_mode": {
    "name": "ipython",
    "version": 2
   },
   "file_extension": ".py",
   "mimetype": "text/x-python",
   "name": "python",
   "nbconvert_exporter": "python",
   "pygments_lexer": "ipython2",
   "version": "2.7.12"
  }
 },
 "nbformat": 4,
 "nbformat_minor": 2
}
