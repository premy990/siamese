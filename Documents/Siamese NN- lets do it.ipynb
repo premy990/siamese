{
 "cells": [
  {
   "cell_type": "code",
   "execution_count": null,
   "metadata": {},
   "outputs": [],
   "source": [
    "char_1=Input(shape=(input_length,),dtype='int32')\n",
    "char_2=INput(shape=(input_length),),dtype='int32')\n",
    "\n",
    "encoder=blstm_encoder(*encoder_params)\n",
    "repr_1=encoder(char_1)\n",
    "repr_2=encoder(char_2)\n",
    "\n",
    "siamese_out=merge([repr_1,repr_2],mode='cos')"
   ]
  },
  {
   "cell_type": "code",
   "execution_count": null,
   "metadata": {},
   "outputs": [],
   "source": [
    "siamese_model=Model(input=[char_1,char_2],output=siamese_out)\n",
    "siamese_model.compile(optimizer=Nadam(learning_rate),loss='mean_squared_error')\n",
    "\n",
    "generator=SiameseGenerator(taxonoy,pos=0.5,neg=0.5,batch_size)\n",
    "\n",
    "siamese_model.fit_generator(generator,samples_per_epoch,nb_epoch)\n",
    "\n",
    "#theano used"
   ]
  },
  {
   "cell_type": "code",
   "execution_count": null,
   "metadata": {},
   "outputs": [],
   "source": []
  }
 ],
 "metadata": {
  "kernelspec": {
   "display_name": "Python 2",
   "language": "python",
   "name": "python2"
  },
  "language_info": {
   "codemirror_mode": {
    "name": "ipython",
    "version": 2
   },
   "file_extension": ".py",
   "mimetype": "text/x-python",
   "name": "python",
   "nbconvert_exporter": "python",
   "pygments_lexer": "ipython2",
   "version": "2.7.12"
  }
 },
 "nbformat": 4,
 "nbformat_minor": 2
}
